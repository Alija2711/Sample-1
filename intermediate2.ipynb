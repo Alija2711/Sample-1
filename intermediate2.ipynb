{
  "nbformat": 4,
  "nbformat_minor": 0,
  "metadata": {
    "colab": {
      "provenance": [],
      "authorship_tag": "ABX9TyNIoaQCNOhbgKttA9QiAGaL",
      "include_colab_link": true
    },
    "kernelspec": {
      "name": "python3",
      "display_name": "Python 3"
    },
    "language_info": {
      "name": "python"
    }
  },
  "cells": [
    {
      "cell_type": "markdown",
      "metadata": {
        "id": "view-in-github",
        "colab_type": "text"
      },
      "source": [
        "<a href=\"https://colab.research.google.com/github/Alija2711/Sample-1/blob/main/intermediate2.ipynb\" target=\"_parent\"><img src=\"https://colab.research.google.com/assets/colab-badge.svg\" alt=\"Open In Colab\"/></a>"
      ]
    },
    {
      "cell_type": "code",
      "execution_count": 23,
      "metadata": {
        "colab": {
          "base_uri": "https://localhost:8080/"
        },
        "id": "VKt3KERUiqFb",
        "outputId": "d03806cd-3dbc-4b7e-fca4-aa6899ce290f"
      },
      "outputs": [
        {
          "output_type": "stream",
          "name": "stdout",
          "text": [
            "   employee_id         department     region         education gender  \\\n",
            "0        65438  Sales & Marketing   region_7  Master's & above      f   \n",
            "1        65141         Operations  region_22        Bachelor's      m   \n",
            "2         7513  Sales & Marketing  region_19        Bachelor's      m   \n",
            "3         2542  Sales & Marketing  region_23        Bachelor's      m   \n",
            "4        48945         Technology  region_26        Bachelor's      m   \n",
            "\n",
            "  recruitment_channel  no_of_trainings  age  previous_year_rating  \\\n",
            "0            sourcing                1   35                   5.0   \n",
            "1               other                1   30                   5.0   \n",
            "2            sourcing                1   34                   3.0   \n",
            "3               other                2   39                   1.0   \n",
            "4               other                1   45                   3.0   \n",
            "\n",
            "   length_of_service  KPIs_met >80%  awards_won?  avg_training_score  \\\n",
            "0                  8              1            0                  49   \n",
            "1                  4              0            0                  60   \n",
            "2                  7              0            0                  50   \n",
            "3                 10              0            0                  50   \n",
            "4                  2              0            0                  73   \n",
            "\n",
            "   is_promoted  \n",
            "0            0  \n",
            "1            0  \n",
            "2            0  \n",
            "3            0  \n",
            "4            0  \n",
            "        employee_id  no_of_trainings           age  previous_year_rating  \\\n",
            "count  54808.000000     54808.000000  54808.000000          50684.000000   \n",
            "mean   39195.830627         1.253011     34.803915              3.329256   \n",
            "std    22586.581449         0.609264      7.660169              1.259993   \n",
            "min        1.000000         1.000000     20.000000              1.000000   \n",
            "25%    19669.750000         1.000000     29.000000              3.000000   \n",
            "50%    39225.500000         1.000000     33.000000              3.000000   \n",
            "75%    58730.500000         1.000000     39.000000              4.000000   \n",
            "max    78298.000000        10.000000     60.000000              5.000000   \n",
            "\n",
            "       length_of_service  KPIs_met >80%   awards_won?  avg_training_score  \\\n",
            "count       54808.000000   54808.000000  54808.000000        54808.000000   \n",
            "mean            5.865512       0.351974      0.023172           63.386750   \n",
            "std             4.265094       0.477590      0.150450           13.371559   \n",
            "min             1.000000       0.000000      0.000000           39.000000   \n",
            "25%             3.000000       0.000000      0.000000           51.000000   \n",
            "50%             5.000000       0.000000      0.000000           60.000000   \n",
            "75%             7.000000       1.000000      0.000000           76.000000   \n",
            "max            37.000000       1.000000      1.000000           99.000000   \n",
            "\n",
            "        is_promoted  \n",
            "count  54808.000000  \n",
            "mean       0.085170  \n",
            "std        0.279137  \n",
            "min        0.000000  \n",
            "25%        0.000000  \n",
            "50%        0.000000  \n",
            "75%        0.000000  \n",
            "max        1.000000  \n",
            "<class 'pandas.core.frame.DataFrame'>\n",
            "RangeIndex: 54808 entries, 0 to 54807\n",
            "Data columns (total 14 columns):\n",
            " #   Column                Non-Null Count  Dtype  \n",
            "---  ------                --------------  -----  \n",
            " 0   employee_id           54808 non-null  int64  \n",
            " 1   department            54808 non-null  object \n",
            " 2   region                54808 non-null  object \n",
            " 3   education             52399 non-null  object \n",
            " 4   gender                54808 non-null  object \n",
            " 5   recruitment_channel   54808 non-null  object \n",
            " 6   no_of_trainings       54808 non-null  int64  \n",
            " 7   age                   54808 non-null  int64  \n",
            " 8   previous_year_rating  50684 non-null  float64\n",
            " 9   length_of_service     54808 non-null  int64  \n",
            " 10  KPIs_met >80%         54808 non-null  int64  \n",
            " 11  awards_won?           54808 non-null  int64  \n",
            " 12  avg_training_score    54808 non-null  int64  \n",
            " 13  is_promoted           54808 non-null  int64  \n",
            "dtypes: float64(1), int64(8), object(5)\n",
            "memory usage: 5.9+ MB\n",
            "None\n"
          ]
        },
        {
          "output_type": "stream",
          "name": "stderr",
          "text": [
            "<ipython-input-23-0534641fb64f>:24: FutureWarning: A value is trying to be set on a copy of a DataFrame or Series through chained assignment using an inplace method.\n",
            "The behavior will change in pandas 3.0. This inplace method will never work because the intermediate object on which we are setting values always behaves as a copy.\n",
            "\n",
            "For example, when doing 'df[col].method(value, inplace=True)', try using 'df.method({col: value}, inplace=True)' or df[col] = df[col].method(value) instead, to perform the operation inplace on the original object.\n",
            "\n",
            "\n",
            "  train_df[feature].fillna(mode, inplace=True)\n",
            "<ipython-input-23-0534641fb64f>:25: FutureWarning: A value is trying to be set on a copy of a DataFrame or Series through chained assignment using an inplace method.\n",
            "The behavior will change in pandas 3.0. This inplace method will never work because the intermediate object on which we are setting values always behaves as a copy.\n",
            "\n",
            "For example, when doing 'df[col].method(value, inplace=True)', try using 'df.method({col: value}, inplace=True)' or df[col] = df[col].method(value) instead, to perform the operation inplace on the original object.\n",
            "\n",
            "\n",
            "  test_df[feature].fillna(mode, inplace=True)\n"
          ]
        }
      ],
      "source": [
        "import pandas as pd\n",
        "import numpy as np\n",
        "import matplotlib.pyplot as plt\n",
        "import seaborn as sns\n",
        "from sklearn.preprocessing import OneHotEncoder, StandardScaler\n",
        "from sklearn.compose import ColumnTransformer\n",
        "from sklearn.pipeline import Pipeline\n",
        "\n",
        "train_df = pd.read_csv('/content/train_LZdllcl.csv')\n",
        "test_df = pd.read_csv('/content/test_2umaH9m.csv')\n",
        "\n",
        "print(train_df.head())\n",
        "print(train_df.describe())\n",
        "print(train_df.info())\n",
        "\n",
        "numerical_features = train_df.select_dtypes(include=np.number).columns\n",
        "numerical_features_test = numerical_features.drop('is_promoted', errors='ignore')\n",
        "train_df[numerical_features] = train_df[numerical_features].fillna(train_df[numerical_features].mean())\n",
        "test_df[numerical_features_test] = test_df[numerical_features_test].fillna(test_df[numerical_features_test].mean())\n",
        "\n",
        "categorical_features = train_df.select_dtypes(include=['object']).columns\n",
        "for feature in categorical_features:\n",
        "    mode = train_df[feature].mode()[0]\n",
        "    train_df[feature].fillna(mode, inplace=True)\n",
        "    test_df[feature].fillna(mode, inplace=True)\n",
        "\n",
        "categorical_cols = train_df.select_dtypes(include=['object']).columns.tolist()\n",
        "numerical_cols = train_df.select_dtypes(include=['number']).columns.tolist()\n",
        "numerical_cols.remove('is_promoted')\n",
        "\n",
        "preprocessor = ColumnTransformer(\n",
        "    transformers=[\n",
        "        ('num', StandardScaler(), numerical_cols),\n",
        "        ('cat', OneHotEncoder(handle_unknown='ignore'), categorical_cols)\n",
        "    ]\n",
        ")\n",
        "\n",
        "X_train_processed = preprocessor.fit_transform(train_df.drop('is_promoted', axis=1))\n",
        "X_test_processed = preprocessor.transform(test_df)\n",
        "y_train = train_df['is_promoted']\n"
      ]
    },
    {
      "cell_type": "code",
      "source": [
        "from sklearn.model_selection import train_test_split\n",
        "from sklearn.ensemble import RandomForestClassifier\n",
        "from sklearn.metrics import accuracy_score, precision_score, recall_score, f1_score\n",
        "X_train, X_val, y_train, y_val = train_test_split(X_train_processed, y_train, test_size=0.2, random_state=42)\n",
        "rf_model = RandomForestClassifier(n_estimators=100, random_state=42)\n",
        "rf_model.fit(X_train, y_train)\n",
        "y_pred = rf_model.predict(X_val)\n",
        "print('Accuracy:', accuracy_score(y_val, y_pred))\n",
        "print('Precision:', precision_score(y_val, y_pred))\n",
        "print('Recall:', recall_score(y_val, y_pred))\n",
        "print('F1 Score:', f1_score(y_val, y_pred))\n"
      ],
      "metadata": {
        "colab": {
          "base_uri": "https://localhost:8080/"
        },
        "id": "pnAEibQxlK44",
        "outputId": "6f20b099-af18-49ad-ded8-9ddb262da941"
      },
      "execution_count": 24,
      "outputs": [
        {
          "output_type": "stream",
          "name": "stdout",
          "text": [
            "Accuracy: 0.9355956942163839\n",
            "Precision: 0.9105691056910569\n",
            "Recall: 0.24669603524229075\n",
            "F1 Score: 0.3882149046793761\n"
          ]
        }
      ]
    },
    {
      "cell_type": "code",
      "source": [
        "from sklearn.model_selection import RandomizedSearchCV\n",
        "param_dist = {\n",
        "    'n_estimators': [50, 100, 200],\n",
        "    'max_depth': [None, 10, 20, 30],\n",
        "    'min_samples_split': [2, 5, 10],\n",
        "    'min_samples_leaf': [1, 2, 4]\n",
        "}\n",
        "random_search = RandomizedSearchCV(estimator=rf_model, param_distributions=param_dist, n_iter=10, cv=3, n_jobs=-1, verbose=2, random_state=42)\n",
        "random_search.fit(X_train, y_train)\n",
        "best_params = random_search.best_params_\n",
        "best_score = random_search.best_score_\n",
        "print('Best Parameters:', best_params)\n",
        "print('Best Score:', best_score)\n",
        "best_rf_model = random_search.best_estimator_\n"
      ],
      "metadata": {
        "colab": {
          "base_uri": "https://localhost:8080/"
        },
        "id": "JrgWgSm3leFt",
        "outputId": "a888ba25-9767-4188-9239-9cf738b43ac4"
      },
      "execution_count": 20,
      "outputs": [
        {
          "output_type": "stream",
          "name": "stdout",
          "text": [
            "Fitting 3 folds for each of 10 candidates, totalling 30 fits\n",
            "Best Parameters: {'n_estimators': 100, 'min_samples_split': 5, 'min_samples_leaf': 1, 'max_depth': None}\n",
            "Best Score: 0.9325821862268828\n"
          ]
        }
      ]
    },
    {
      "cell_type": "code",
      "source": [
        "test_pred = best_rf_model.predict(X_test_processed)\n"
      ],
      "metadata": {
        "id": "a3pomA8Zl7Ny"
      },
      "execution_count": 21,
      "outputs": []
    },
    {
      "cell_type": "code",
      "source": [
        "\n",
        "submission_df = pd.read_csv('/content/sample_submission_M0L0uXE (1).csv')\n",
        "submission_df['is_promoted'] = test_pred\n",
        "submission_df.to_csv('final_submission.csv', index=False)\n",
        "print(\"Submission file created successfully!\")\n"
      ],
      "metadata": {
        "colab": {
          "base_uri": "https://localhost:8080/"
        },
        "id": "i9pCOqgal9wr",
        "outputId": "b9e64e45-336d-4e1d-b03f-a46a8fcef07b"
      },
      "execution_count": 22,
      "outputs": [
        {
          "output_type": "stream",
          "name": "stdout",
          "text": [
            "Submission file created successfully!\n"
          ]
        }
      ]
    }
  ]
}